{
  "nbformat": 4,
  "nbformat_minor": 0,
  "metadata": {
    "colab": {
      "provenance": []
    },
    "kernelspec": {
      "name": "python3",
      "display_name": "Python 3"
    },
    "language_info": {
      "name": "python"
    }
  },
  "cells": [
    {
      "cell_type": "markdown",
      "source": [
        "# Data Science Tools and Ecosystem"
      ],
      "metadata": {
        "id": "4mP2_tSW6a-s"
      }
    },
    {
      "cell_type": "markdown",
      "source": [
        "In this notebook, Data Science Tools and Ecosystem are summarized."
      ],
      "metadata": {
        "id": "y4HEjTYR79wd"
      }
    },
    {
      "cell_type": "markdown",
      "source": [
        "**Objectives**:\n",
        "- List popular languages for Data Science\n",
        "- Basics of jupyter notebook\n",
        "- Basics of R\n",
        "- Basics of Github\n"
      ],
      "metadata": {
        "id": "8nWgdS0c_E8i"
      }
    },
    {
      "cell_type": "markdown",
      "source": [
        "Some of the popular languages that Data Scientists use are:"
      ],
      "metadata": {
        "id": "6jOube0z8G2k"
      }
    },
    {
      "cell_type": "markdown",
      "source": [
        "1. Python\n",
        "2. R\n",
        "3. Julia\n",
        "4. Scala"
      ],
      "metadata": {
        "id": "qNQqX3In8NTF"
      }
    },
    {
      "cell_type": "markdown",
      "source": [
        "Some of the commonly used libraries used by Data Scientists include:"
      ],
      "metadata": {
        "id": "N1DUva5t8d9v"
      }
    },
    {
      "cell_type": "markdown",
      "source": [
        "1. Pandas\n",
        "2. numpy\n",
        "3. matplotlib\n",
        "4. keras\n",
        "5. caret"
      ],
      "metadata": {
        "id": "o7S_apyM8w_w"
      }
    },
    {
      "cell_type": "markdown",
      "source": [
        "|Data Science Tools|\n",
        "--------------------\n",
        "|Rstudio|\n",
        "|Apache spark|\n",
        "|TensorFlow|"
      ],
      "metadata": {
        "id": "KT1NkTsH856C"
      }
    },
    {
      "cell_type": "markdown",
      "source": [
        "### Below are a few examples of evaluating arithmetic expressions in Python."
      ],
      "metadata": {
        "id": "_xolYurP9G-g"
      }
    },
    {
      "cell_type": "code",
      "source": [
        "#This a simple arithmetic expression to mutiply then add integers\n",
        "(3*4)+5"
      ],
      "metadata": {
        "colab": {
          "base_uri": "https://localhost:8080/"
        },
        "id": "TIDJ6mMl8tPE",
        "outputId": "4752def1-126a-46b9-c337-c8b2f7964154"
      },
      "execution_count": 3,
      "outputs": [
        {
          "output_type": "execute_result",
          "data": {
            "text/plain": [
              "17"
            ]
          },
          "metadata": {},
          "execution_count": 3
        }
      ]
    },
    {
      "cell_type": "code",
      "source": [
        "n = 200\n",
        "hours = n/60\n",
        "print(n,\"minutes will be\",hours,\"hours\")"
      ],
      "metadata": {
        "colab": {
          "base_uri": "https://localhost:8080/"
        },
        "id": "2KMmMNrg-Hv8",
        "outputId": "b7f20b8a-349d-45c2-970e-904a4c06e21d"
      },
      "execution_count": 5,
      "outputs": [
        {
          "output_type": "stream",
          "name": "stdout",
          "text": [
            "200 minutes will be 3.3333333333333335 hours\n"
          ]
        }
      ]
    },
    {
      "cell_type": "markdown",
      "source": [
        "## Author\n",
        "Gurdeep Singh"
      ],
      "metadata": {
        "id": "X_ZopCLf-ySA"
      }
    },
    {
      "cell_type": "code",
      "source": [],
      "metadata": {
        "id": "C3HebSPk-x72"
      },
      "execution_count": null,
      "outputs": []
    }
  ]
}